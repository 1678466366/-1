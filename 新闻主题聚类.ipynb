{
 "cells": [
  {
   "cell_type": "code",
   "execution_count": 1,
   "metadata": {},
   "outputs": [
    {
     "data": {
      "text/html": [
       "<div>\n",
       "<style scoped>\n",
       "    .dataframe tbody tr th:only-of-type {\n",
       "        vertical-align: middle;\n",
       "    }\n",
       "\n",
       "    .dataframe tbody tr th {\n",
       "        vertical-align: top;\n",
       "    }\n",
       "\n",
       "    .dataframe thead th {\n",
       "        text-align: right;\n",
       "    }\n",
       "</style>\n",
       "<table border=\"1\" class=\"dataframe\">\n",
       "  <thead>\n",
       "    <tr style=\"text-align: right;\">\n",
       "      <th></th>\n",
       "      <th>Unnamed: 0</th>\n",
       "      <th>content</th>\n",
       "      <th>title</th>\n",
       "      <th>url</th>\n",
       "    </tr>\n",
       "  </thead>\n",
       "  <tbody>\n",
       "    <tr>\n",
       "      <td>0</td>\n",
       "      <td>0</td>\n",
       "      <td>英国《每日电讯报》记者Harry Yorke 称，伦敦桥附近再次传出巨大爆炸声，爆炸强度是半...</td>\n",
       "      <td>伦敦桥附近再传爆炸声</td>\n",
       "      <td>http://news.sina.com.cn/w/zx/2017-06-04/doc-if...</td>\n",
       "    </tr>\n",
       "    <tr>\n",
       "      <td>1</td>\n",
       "      <td>1</td>\n",
       "      <td>[环球网综合报道]据英国《每日邮报》6月1日报道，近日，美国洛杉矶市比弗利山庄罗迪欧大道诊所...</td>\n",
       "      <td>美诊所1.5万人整形记录被盗</td>\n",
       "      <td>http://news.sina.com.cn/w/zx/2017-06-04/doc-if...</td>\n",
       "    </tr>\n",
       "    <tr>\n",
       "      <td>2</td>\n",
       "      <td>2</td>\n",
       "      <td>[环球网综合报道]据美国有线电视新闻网4日报道，当地时间3日，英国伦敦相继发生三起袭击事件，...</td>\n",
       "      <td>特朗普“发推”声援伦敦</td>\n",
       "      <td>http://news.sina.com.cn/o/2017-06-04/doc-ifyfu...</td>\n",
       "    </tr>\n",
       "    <tr>\n",
       "      <td>3</td>\n",
       "      <td>3</td>\n",
       "      <td>原标题：军情锐评 | 文在寅为何成“挺萨德派”？俄军对付美军有一套…… 近日，美国展示拦截洲...</td>\n",
       "      <td>文在寅为何成“挺萨德派”</td>\n",
       "      <td>http://news.sina.com.cn/w/zx/2017-06-04/doc-if...</td>\n",
       "    </tr>\n",
       "    <tr>\n",
       "      <td>4</td>\n",
       "      <td>4</td>\n",
       "      <td>中新网6月4日电 据外媒报道，在伦敦桥和巴罗市场3日遭恐袭后，有目击者称，在巴罗市场连续传来...</td>\n",
       "      <td>2名疑似袭击者被击毙</td>\n",
       "      <td>http://news.sina.com.cn/o/2017-06-04/doc-ifyfu...</td>\n",
       "    </tr>\n",
       "  </tbody>\n",
       "</table>\n",
       "</div>"
      ],
      "text/plain": [
       "   Unnamed: 0                                            content  \\\n",
       "0           0  英国《每日电讯报》记者Harry Yorke 称，伦敦桥附近再次传出巨大爆炸声，爆炸强度是半...   \n",
       "1           1  [环球网综合报道]据英国《每日邮报》6月1日报道，近日，美国洛杉矶市比弗利山庄罗迪欧大道诊所...   \n",
       "2           2  [环球网综合报道]据美国有线电视新闻网4日报道，当地时间3日，英国伦敦相继发生三起袭击事件，...   \n",
       "3           3  原标题：军情锐评 | 文在寅为何成“挺萨德派”？俄军对付美军有一套…… 近日，美国展示拦截洲...   \n",
       "4           4  中新网6月4日电 据外媒报道，在伦敦桥和巴罗市场3日遭恐袭后，有目击者称，在巴罗市场连续传来...   \n",
       "\n",
       "            title                                                url  \n",
       "0      伦敦桥附近再传爆炸声  http://news.sina.com.cn/w/zx/2017-06-04/doc-if...  \n",
       "1  美诊所1.5万人整形记录被盗  http://news.sina.com.cn/w/zx/2017-06-04/doc-if...  \n",
       "2     特朗普“发推”声援伦敦  http://news.sina.com.cn/o/2017-06-04/doc-ifyfu...  \n",
       "3    文在寅为何成“挺萨德派”  http://news.sina.com.cn/w/zx/2017-06-04/doc-if...  \n",
       "4      2名疑似袭击者被击毙  http://news.sina.com.cn/o/2017-06-04/doc-ifyfu...  "
      ]
     },
     "execution_count": 1,
     "metadata": {},
     "output_type": "execute_result"
    }
   ],
   "source": [
    "#读取新闻信息\n",
    "import pandas\n",
    "df = pandas.read_excel('C:/Users/Administrator/Desktop/python/实验6/数据/news.xlsx') \n",
    "df.head()"
   ]
  },
  {
   "cell_type": "code",
   "execution_count": 5,
   "metadata": {},
   "outputs": [
    {
     "data": {
      "text/plain": [
       "498"
      ]
     },
     "execution_count": 5,
     "metadata": {},
     "output_type": "execute_result"
    }
   ],
   "source": [
    "#使用Jieba 断词\n",
    "import jieba\n",
    "titles   = []\n",
    "articles = [] \n",
    "for rec in df.iterrows():\n",
    "    #print(rec[1].content)\n",
    "    articles.append(' '.join(jieba.cut(rec[1].content)))\n",
    "    titles.append(rec[1].title)\n",
    "len(articles)\n"
   ]
  },
  {
   "cell_type": "code",
   "execution_count": 6,
   "metadata": {},
   "outputs": [
    {
     "data": {
      "text/plain": [
       "498"
      ]
     },
     "execution_count": 6,
     "metadata": {},
     "output_type": "execute_result"
    }
   ],
   "source": [
    "len(titles)"
   ]
  },
  {
   "cell_type": "code",
   "execution_count": 7,
   "metadata": {},
   "outputs": [
    {
     "data": {
      "text/plain": [
       "'英国 《 每日 电讯报 》 记者 Harry   Yorke   称 ， 伦敦桥 附近 再次 传出 巨大 爆炸声 ， 爆炸 强度 是 半小时 前 传出 的 三起 爆炸声 的 四五倍 。   伦敦 警方 已经 证实 ， 近 45 分钟 内 发生 的 一系列 爆炸 为 “ 受控 爆破 ” （ controlled \\xa0 explosions ） 。 “ 受控 爆破 ” 是 指 引爆 或者 拆除 可疑 爆炸 装置 的 一种 方法 。 （ 央视 记者 \\xa0 张勇 ）   责任编辑 ： 张迪'"
      ]
     },
     "execution_count": 7,
     "metadata": {},
     "output_type": "execute_result"
    }
   ],
   "source": [
    "articles[0]"
   ]
  },
  {
   "cell_type": "code",
   "execution_count": 8,
   "metadata": {},
   "outputs": [
    {
     "data": {
      "text/plain": [
       "(498, 16528)"
      ]
     },
     "execution_count": 8,
     "metadata": {},
     "output_type": "execute_result"
    }
   ],
   "source": [
    "#建立词频矩阵\n",
    "from sklearn.feature_extraction.text import CountVectorizer\n",
    "vectorizer = CountVectorizer() \n",
    "X = vectorizer.fit_transform(articles)\n",
    "X.shape"
   ]
  },
  {
   "cell_type": "code",
   "execution_count": 9,
   "metadata": {},
   "outputs": [
    {
     "data": {
      "text/plain": [
       "array([[1.        , 0.03107505, 0.14547859, ..., 0.05066481, 0.1387863 ,\n",
       "        0.01562691],\n",
       "       [0.03107505, 1.        , 0.13350354, ..., 0.07793338, 0.14340031,\n",
       "        0.02294493],\n",
       "       [0.14547859, 0.13350354, 1.        , ..., 0.19071546, 0.29149942,\n",
       "        0.01790287],\n",
       "       ...,\n",
       "       [0.05066481, 0.07793338, 0.19071546, ..., 1.        , 0.15117901,\n",
       "        0.08550731],\n",
       "       [0.1387863 , 0.14340031, 0.29149942, ..., 0.15117901, 1.        ,\n",
       "        0.03795401],\n",
       "       [0.01562691, 0.02294493, 0.01790287, ..., 0.08550731, 0.03795401,\n",
       "        1.        ]])"
      ]
     },
     "execution_count": 9,
     "metadata": {},
     "output_type": "execute_result"
    }
   ],
   "source": [
    "#计算余弦距离(Cosine Similarity)\n",
    "from sklearn.metrics.pairwise import cosine_similarity\n",
    "cosine_similarities  = cosine_similarity(X, X)\n",
    "cosine_similarities.shape\n",
    "cosine_similarities"
   ]
  },
  {
   "cell_type": "code",
   "execution_count": 10,
   "metadata": {},
   "outputs": [
    {
     "data": {
      "text/plain": [
       "array([4, 4, 0, 9, 0, 0, 0, 4, 0, 4, 0, 0, 0, 0, 0, 7, 3, 4, 2, 5, 4, 3,\n",
       "       3, 5, 4, 6, 4, 4, 4, 4, 2, 0, 3, 1, 2, 3, 4, 4, 4, 4, 4, 5, 4, 3,\n",
       "       4, 3, 4, 7, 3, 3, 4, 4, 2, 3, 4, 4, 7, 4, 4, 2, 9, 2, 1, 4, 3, 8,\n",
       "       4, 7, 4, 9, 2, 7, 2, 7, 4, 4, 5, 7, 4, 4, 2, 2, 2, 7, 7, 3, 4, 4,\n",
       "       8, 7, 3, 4, 2, 5, 2, 4, 3, 7, 2, 9, 7, 5, 5, 2, 3, 4, 3, 4, 2, 3,\n",
       "       8, 7, 3, 4, 8, 2, 0, 2, 2, 2, 3, 9, 4, 3, 8, 4, 4, 4, 3, 3, 7, 4,\n",
       "       4, 5, 4, 2, 3, 4, 5, 5, 3, 5, 0, 5, 3, 4, 5, 4, 2, 2, 3, 4, 2, 4,\n",
       "       3, 6, 0, 4, 0, 7, 4, 4, 3, 4, 3, 4, 3, 8, 4, 5, 8, 4, 2, 4, 4, 4,\n",
       "       4, 4, 3, 9, 4, 7, 3, 4, 2, 4, 2, 9, 4, 4, 3, 9, 3, 4, 4, 8, 4, 0,\n",
       "       4, 4, 3, 9, 4, 8, 8, 2, 8, 4, 2, 3, 4, 4, 5, 4, 6, 4, 4, 1, 5, 9,\n",
       "       4, 3, 5, 2, 9, 9, 8, 4, 4, 7, 3, 5, 4, 4, 4, 5, 6, 4, 0, 3, 2, 9,\n",
       "       2, 3, 4, 8, 8, 4, 6, 4, 6, 9, 1, 8, 3, 6, 6, 9, 1, 6, 1, 8, 1, 6,\n",
       "       6, 4, 8, 6, 4, 8, 8, 3, 4, 6, 4, 4, 6, 6, 5, 4, 6, 4, 4, 5, 4, 8,\n",
       "       7, 8, 0, 5, 9, 3, 8, 6, 4, 4, 3, 0, 1, 1, 9, 0, 5, 3, 3, 8, 3, 5,\n",
       "       3, 8, 4, 5, 3, 4, 3, 9, 8, 3, 3, 4, 4, 8, 4, 4, 4, 8, 3, 4, 4, 9,\n",
       "       4, 3, 3, 4, 4, 3, 5, 4, 3, 4, 4, 4, 7, 8, 4, 4, 3, 4, 3, 4, 0, 4,\n",
       "       4, 0, 0, 4, 4, 4, 3, 4, 5, 4, 1, 4, 7, 8, 8, 9, 4, 4, 3, 4, 7, 4,\n",
       "       0, 4, 7, 4, 5, 1, 8, 4, 7, 4, 9, 5, 4, 4, 3, 4, 3, 4, 1, 1, 4, 5,\n",
       "       4, 4, 5, 4, 4, 3, 4, 8, 3, 2, 5, 3, 4, 0, 4, 7, 8, 0, 5, 4, 0, 5,\n",
       "       0, 4, 3, 5, 4, 4, 5, 7, 3, 4, 4, 4, 5, 0, 4, 4, 4, 4, 7, 4, 0, 3,\n",
       "       4, 4, 5, 3, 4, 4, 4, 4, 4, 4, 0, 8, 0, 4, 4, 0, 8, 4, 8, 4, 4, 8,\n",
       "       8, 5, 4, 8, 4, 4, 4, 0, 5, 8, 4, 8, 0, 4, 3, 3, 3, 4, 3, 8, 4, 4,\n",
       "       8, 5, 4, 0, 3, 4, 4, 4, 5, 0, 4, 5, 0, 4])"
      ]
     },
     "execution_count": 10,
     "metadata": {},
     "output_type": "execute_result"
    }
   ],
   "source": [
    "#使用KMeans分群\n",
    "from sklearn.cluster import KMeans\n",
    "c = KMeans(n_clusters=10, init = 'k-means++', random_state=123)\n",
    "k_data = c.fit_predict(cosine_similarities)\n",
    "k_data"
   ]
  },
  {
   "cell_type": "code",
   "execution_count": 11,
   "metadata": {},
   "outputs": [
    {
     "data": {
      "text/plain": [
       "array(['文在寅为何成“挺萨德派”', '美韩同盟裂痕扩大？', '环评分歧或影响萨德部署', '韩强调将落实萨德环评工作',\n",
       "       '韩方漏报萨德意使部署不可逆', '韩防长回应瞒报“萨德”入韩', '韩国女子美使馆前反萨德', '韩青瓦台通知前国防部长受查',\n",
       "       '文在寅:不会改变部署决定', '文在寅:不改变萨德部署决定', '韩媒：韩军或遭大换血', '萨德瞒报丑闻指向韩防长',\n",
       "       '文在寅:不会改变萨德部署决定', '韩防长:未曾下令瞒报萨德入韩', '美方:韩萨德仅有初步拦截能力',\n",
       "       '韩方回应萨德发射车暗中入韩', '韩军瞒报4辆萨德车秘密入境', '萨德发射架新政府成立前入境', '4套萨德发射车“秘密”入韩',\n",
       "       '美媒:萨德成文在寅手中悬案', '外媒:萨德成文在寅烫手山芋'], dtype='<U16')"
      ]
     },
     "execution_count": 11,
     "metadata": {},
     "output_type": "execute_result"
    }
   ],
   "source": [
    "#产生分群结果\n",
    "import numpy\n",
    "titles_ary = numpy.array(titles)\n",
    "titles_ary[k_data == 9]"
   ]
  },
  {
   "cell_type": "code",
   "execution_count": null,
   "metadata": {},
   "outputs": [],
   "source": []
  }
 ],
 "metadata": {
  "kernelspec": {
   "display_name": "Python 3",
   "language": "python",
   "name": "python3"
  },
  "language_info": {
   "codemirror_mode": {
    "name": "ipython",
    "version": 3
   },
   "file_extension": ".py",
   "mimetype": "text/x-python",
   "name": "python",
   "nbconvert_exporter": "python",
   "pygments_lexer": "ipython3",
   "version": "3.7.4"
  }
 },
 "nbformat": 4,
 "nbformat_minor": 2
}
